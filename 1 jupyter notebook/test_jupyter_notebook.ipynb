{
 "cells": [
  {
   "cell_type": "markdown",
   "id": "4e29e9a6",
   "metadata": {},
   "source": [
    "# python ka chilla\n",
    "## how to use jupyter notebook\n",
    "### basics of python\n",
    "1- My first program\n",
    "\n",
    "2- My second program"
   ]
  },
  {
   "cell_type": "markdown",
   "id": "ef58f26f",
   "metadata": {},
   "source": [
    "1- 1st code"
   ]
  },
  {
   "cell_type": "code",
   "execution_count": 2,
   "id": "a919cef0",
   "metadata": {
    "scrolled": true
   },
   "outputs": [
    {
     "name": "stdout",
     "output_type": "stream",
     "text": [
      "we are learning with amaar\n",
      "we are learning with's ammar\n",
      "we are learning with\"s ammar\n",
      "8\n"
     ]
    }
   ],
   "source": [
    "print(\"we are learning with amaar\")\n",
    "print(\"we are learning with's ammar\")\n",
    "print('''we are learning with\"s ammar''')\n",
    "print(3+5)"
   ]
  },
  {
   "cell_type": "markdown",
   "id": "a93b2c15",
   "metadata": {},
   "source": [
    "2- Operators"
   ]
  },
  {
   "cell_type": "code",
   "execution_count": 3,
   "id": "7f143ab5",
   "metadata": {
    "scrolled": false
   },
   "outputs": [
    {
     "name": "stdout",
     "output_type": "stream",
     "text": [
      "13\n",
      "4\n",
      "4.0\n",
      "36\n",
      "4\n",
      "1\n",
      "16\n",
      "256\n",
      "11.0\n",
      "PEMDAS\n",
      "left to right sequence for m and d and a and s\n"
     ]
    }
   ],
   "source": [
    "print(9+4)\n",
    "print(7-3)\n",
    "print(8/2)\n",
    "print(9*4)\n",
    "print(8//2)\n",
    "print(15%2)\n",
    "print(2**4)\n",
    "print(4**4)\n",
    "print(4-2+6*3/2)\n",
    "print(\"PEMDAS\")\n",
    "print(\"left to right sequence for m and d and a and s\")"
   ]
  },
  {
   "cell_type": "markdown",
   "id": "34ee537f",
   "metadata": {},
   "source": [
    "3- Strings"
   ]
  },
  {
   "cell_type": "code",
   "execution_count": 4,
   "id": "7d24d29e",
   "metadata": {
    "scrolled": true
   },
   "outputs": [
    {
     "name": "stdout",
     "output_type": "stream",
     "text": [
      "this is our test for single string\n",
      "now we have put ' in between \n",
      "this is how things works\n"
     ]
    }
   ],
   "source": [
    "print('this is our test for single string')\n",
    "print(\"now we have put ' in between \")\n",
    "print('''this is how things works''')"
   ]
  },
  {
   "cell_type": "markdown",
   "id": "751e9f4d",
   "metadata": {},
   "source": [
    "4- comments"
   ]
  },
  {
   "cell_type": "code",
   "execution_count": 5,
   "id": "2074b6d6",
   "metadata": {
    "scrolled": true
   },
   "outputs": [
    {
     "name": "stdout",
     "output_type": "stream",
     "text": [
      "how to add comments mean how to stop a code from appearing in terminal results\n",
      "for this we use hash tag\n",
      "or we can do this in this way\n",
      "that'S How things work in python\n"
     ]
    }
   ],
   "source": [
    "print(\"how to add comments mean how to stop a code from appearing in terminal results\")\n",
    "print(\"for this we use hash tag\") #print(\"lets apply this example\")\n",
    "print(\"or we can do this in this way\")\n",
    "print(\"that'S How things work in python\")"
   ]
  },
  {
   "cell_type": "markdown",
   "id": "08e949dc",
   "metadata": {},
   "source": [
    "5- variables"
   ]
  },
  {
   "cell_type": "code",
   "execution_count": 6,
   "id": "4a5e9f03",
   "metadata": {
    "scrolled": true
   },
   "outputs": [
    {
     "name": "stdout",
     "output_type": "stream",
     "text": [
      "5\n",
      "we are learning python withcamaar\n",
      "15\n",
      "25\n",
      "<class 'int'>\n",
      "<class 'str'>\n",
      "mangoes\n",
      "mangoes,oranges\n",
      "<class 'str'>\n"
     ]
    }
   ],
   "source": [
    "#variables are objects containing specific values\n",
    "from re import X\n",
    "\n",
    "\n",
    "x = 5 #numeric or integar variable\n",
    "print(x)\n",
    "y=\"we are learning python withcamaar\" #string variable\n",
    "print(y)\n",
    "x=15\n",
    "print(x)\n",
    "x=(x+10)\n",
    "print(x)\n",
    "#types of variables mean we are going to check types of variable using python\n",
    "print(type(x))\n",
    "print(type(y))\n",
    "#rules for variables\n",
    "#1 the variable should contain letters numbers or underscore\n",
    "#2 do not start with numbers\n",
    "#3 spaces are not allowed\n",
    "#4 variable name should be short and descriptive\n",
    "#5 do not use key words used in functions in python\n",
    "#6 case senstivity use lowercasse\n",
    "fruit_basket=\"mangoes\"\n",
    "print(fruit_basket)\n",
    "fruit_basket=\"mangoes,oranges\"\n",
    "print(fruit_basket)\n",
    "print(type(fruit_basket))"
   ]
  },
  {
   "cell_type": "markdown",
   "id": "9f215a39",
   "metadata": {},
   "source": [
    "6- input variables"
   ]
  },
  {
   "cell_type": "code",
   "execution_count": 12,
   "id": "1c87bccd",
   "metadata": {
    "scrolled": false
   },
   "outputs": [
    {
     "name": "stdout",
     "output_type": "stream",
     "text": [
      "mangoes\n"
     ]
    }
   ],
   "source": [
    "fruit_basket=\"mangoes\"\n",
    "print(fruit_basket)"
   ]
  },
  {
   "cell_type": "code",
   "execution_count": 13,
   "id": "c52802d6",
   "metadata": {
    "scrolled": true
   },
   "outputs": [
    {
     "name": "stdout",
     "output_type": "stream",
     "text": [
      "what is your favouritee friut? mangoes\n"
     ]
    }
   ],
   "source": [
    "#input function\n",
    "fruit_basket=input(\"what is your favouritee friut? \")"
   ]
  },
  {
   "cell_type": "code",
   "execution_count": 14,
   "id": "d12f6b08",
   "metadata": {
    "scrolled": true
   },
   "outputs": [
    {
     "name": "stdout",
     "output_type": "stream",
     "text": [
      "what is your name? taqi\n",
      "Hello! taqi\n"
     ]
    }
   ],
   "source": [
    "name=input(\"what is your name? \")\n",
    "greetings=\"Hello!\"\n",
    "print(greetings, name)"
   ]
  },
  {
   "cell_type": "code",
   "execution_count": 15,
   "id": "cd4ffdc4",
   "metadata": {
    "scrolled": true
   },
   "outputs": [
    {
     "name": "stdout",
     "output_type": "stream",
     "text": [
      "what is your name? taqi\n",
      "Hello! taqi\n"
     ]
    }
   ],
   "source": [
    "name=input(\"what is your name? \")\n",
    "print(\"Hello!\",name)"
   ]
  },
  {
   "cell_type": "code",
   "execution_count": 16,
   "id": "820b3ada",
   "metadata": {
    "scrolled": true
   },
   "outputs": [
    {
     "name": "stdout",
     "output_type": "stream",
     "text": [
      "what is your name? taqi\n",
      "how old are you? 20\n",
      "Hello! taqi you are still young\n"
     ]
    }
   ],
   "source": [
    "name=input(\"what is your name? \")\n",
    "age=input(\"how old are you? \")\n",
    "greetings=\"Hello!\"\n",
    "print(greetings, name, \"you are still young\")"
   ]
  },
  {
   "cell_type": "code",
   "execution_count": 17,
   "id": "782f6c1d",
   "metadata": {
    "scrolled": true
   },
   "outputs": [
    {
     "name": "stdout",
     "output_type": "stream",
     "text": [
      "what is your name? taqi\n",
      "how old are you? 20\n",
      "Hello! taqi 20 you are still young\n"
     ]
    }
   ],
   "source": [
    "name=input(\"what is your name? \")\n",
    "age=input(\"how old are you? \")\n",
    "greetings=\"Hello!\"\n",
    "print(greetings, name, age, \"you are still young\")"
   ]
  },
  {
   "cell_type": "markdown",
   "id": "f7d01035",
   "metadata": {},
   "source": [
    "7- conditional logics"
   ]
  },
  {
   "cell_type": "code",
   "execution_count": 18,
   "id": "0f8d8b40",
   "metadata": {
    "scrolled": true
   },
   "outputs": [
    {
     "name": "stdout",
     "output_type": "stream",
     "text": [
      "True\n",
      "True\n",
      "False\n",
      "False\n",
      "False\n",
      "False\n",
      "True\n",
      "True\n"
     ]
    }
   ],
   "source": [
    "#logical operators are eiher true or false yes or no 1 or 0\n",
    "#equal to ==\n",
    "#not equal to !=\n",
    "#less than <\n",
    "#greater than >\n",
    "#less than and equal to <=\n",
    "#greater than and equal to >=\n",
    "#is 4 equal to 4\n",
    "print(4==4)\n",
    "print(4>2)\n",
    "print(4<2)\n",
    "print(4!=4)\n",
    "print(3>6)\n",
    "print(3>=6)\n",
    "print(3<=5)\n",
    "print(4>=2)"
   ]
  },
  {
   "cell_type": "code",
   "execution_count": 19,
   "id": "c4d46fb8",
   "metadata": {
    "scrolled": true
   },
   "outputs": [
    {
     "name": "stdout",
     "output_type": "stream",
     "text": [
      "how old are you? 5\n",
      "True\n"
     ]
    }
   ],
   "source": [
    "age_at_school=5\n",
    "hamadad_age=input(\"how old are you? \")\n",
    "hamadad_age=int(hamadad_age)\n",
    "print(hamadad_age==age_at_school)"
   ]
  },
  {
   "cell_type": "code",
   "execution_count": 20,
   "id": "5b5b2ad1",
   "metadata": {},
   "outputs": [
    {
     "name": "stdout",
     "output_type": "stream",
     "text": [
      "how old are you? 4\n",
      "False\n"
     ]
    }
   ],
   "source": [
    "age_at_school=5\n",
    "hamadad_age=input(\"how old are you? \")\n",
    "hamadad_age=int(hamadad_age)\n",
    "print(hamadad_age==age_at_school)"
   ]
  },
  {
   "cell_type": "markdown",
   "id": "9f1e7cf0",
   "metadata": {},
   "source": [
    "8- Type conversion"
   ]
  },
  {
   "cell_type": "code",
   "execution_count": 31,
   "id": "d38dd9c9",
   "metadata": {
    "scrolled": true
   },
   "outputs": [
    {
     "name": "stdout",
     "output_type": "stream",
     "text": [
      "10 type of x is <class 'int'>\n"
     ]
    }
   ],
   "source": [
    "x=10\n",
    "#y=10.2\n",
    "#z= \"Hello\n",
    "print(x, \"type of x is\", type(x))"
   ]
  },
  {
   "cell_type": "code",
   "execution_count": 32,
   "id": "4f90cc8e",
   "metadata": {
    "scrolled": true
   },
   "outputs": [
    {
     "name": "stdout",
     "output_type": "stream",
     "text": [
      "10 type of y is <class 'float'>\n"
     ]
    }
   ],
   "source": [
    "y=10.2\n",
    "print(x, \"type of y is\", type(y))"
   ]
  },
  {
   "cell_type": "code",
   "execution_count": 33,
   "id": "9e389a1b",
   "metadata": {},
   "outputs": [
    {
     "name": "stdout",
     "output_type": "stream",
     "text": [
      "we are doing work on jupyter notebook type of z is <class 'str'>\n"
     ]
    }
   ],
   "source": [
    "z= \"we are doing work on jupyter notebook\"\n",
    "print(z, \"type of z is\", type(z))"
   ]
  },
  {
   "cell_type": "code",
   "execution_count": 34,
   "id": "12174f96",
   "metadata": {
    "scrolled": true
   },
   "outputs": [
    {
     "name": "stdout",
     "output_type": "stream",
     "text": [
      "what is your age? 20\n",
      "20 <class 'float'>\n"
     ]
    }
   ],
   "source": [
    "age=input(\"what is your age? \")\n",
    "print(age, type(float(age)))"
   ]
  },
  {
   "cell_type": "code",
   "execution_count": 35,
   "id": "6b9eafbb",
   "metadata": {
    "scrolled": false
   },
   "outputs": [
    {
     "name": "stdout",
     "output_type": "stream",
     "text": [
      "what is your name? taqi\n",
      "taqi <class 'str'>\n"
     ]
    }
   ],
   "source": [
    "name=input(\"what is your name? \")\n",
    "print(name, type(str(name)))"
   ]
  },
  {
   "cell_type": "markdown",
   "id": "30739e28",
   "metadata": {},
   "source": [
    "9- if elif else"
   ]
  },
  {
   "cell_type": "code",
   "execution_count": 36,
   "id": "c102fe71",
   "metadata": {
    "scrolled": true
   },
   "outputs": [
    {
     "name": "stdout",
     "output_type": "stream",
     "text": [
      "hamad is still a baby\n"
     ]
    }
   ],
   "source": [
    "hamad_age=1\n",
    "required_age=5\n",
    "#can hamad join the school\n",
    "if hamad_age==required_age:\n",
    "    print(\"hamad can join the school\")\n",
    "elif hamad_age>required_age:\n",
    "    print(\"hamad should join higher secondary school\")\n",
    "elif hamad_age<=2:\n",
    "    print(\"hamad is still a baby\") \n",
    "else:\n",
    "    print(\"hamad can not join the school\")"
   ]
  },
  {
   "cell_type": "code",
   "execution_count": 37,
   "id": "de000b5a",
   "metadata": {},
   "outputs": [
    {
     "name": "stdout",
     "output_type": "stream",
     "text": [
      "hamad can join the school\n"
     ]
    }
   ],
   "source": [
    "hamad_age=5\n",
    "required_age=5\n",
    "#can hamad join the school\n",
    "if hamad_age==required_age:\n",
    "    print(\"hamad can join the school\")\n",
    "elif hamad_age>required_age:\n",
    "    print(\"hamad should join higher secondary school\")\n",
    "elif hamad_age<=2:\n",
    "    print(\"hamad is still a baby\") \n",
    "else:\n",
    "    print(\"hamad can not join the school\")"
   ]
  },
  {
   "cell_type": "code",
   "execution_count": 38,
   "id": "8b124591",
   "metadata": {},
   "outputs": [
    {
     "name": "stdout",
     "output_type": "stream",
     "text": [
      "hamad should join higher secondary school\n"
     ]
    }
   ],
   "source": [
    "hamad_age=6\n",
    "required_age=5\n",
    "#can hamad join the school\n",
    "if hamad_age==required_age:\n",
    "    print(\"hamad can join the school\")\n",
    "elif hamad_age>required_age:\n",
    "    print(\"hamad should join higher secondary school\")\n",
    "elif hamad_age<=2:\n",
    "    print(\"hamad is still a baby\") \n",
    "else:\n",
    "    print(\"hamad can not join the school\")"
   ]
  },
  {
   "cell_type": "markdown",
   "id": "73c88417",
   "metadata": {},
   "source": [
    "10- functions"
   ]
  },
  {
   "cell_type": "code",
   "execution_count": 39,
   "id": "e5a71e07",
   "metadata": {
    "scrolled": true
   },
   "outputs": [
    {
     "name": "stdout",
     "output_type": "stream",
     "text": [
      "we are learning with amaar\n",
      "we are learning with amaar\n",
      "we are learning with amaar\n"
     ]
    }
   ],
   "source": [
    "def print_codanics():\n",
    "   print(\"we are learning with amaar\")\n",
    "   print(\"we are learning with amaar\")\n",
    "   print(\"we are learning with amaar\")\n",
    "print_codanics()"
   ]
  },
  {
   "cell_type": "code",
   "execution_count": 43,
   "id": "c36cb3f1",
   "metadata": {
    "scrolled": true
   },
   "outputs": [
    {
     "name": "stdout",
     "output_type": "stream",
     "text": [
      "we  are learning with ammar\n",
      "we  are learning with ammar\n",
      "we  are learning with ammar\n"
     ]
    }
   ],
   "source": [
    "def print_codanics():\n",
    "    text=\"we  are learning with ammar\"\n",
    "    print(text)\n",
    "    print(text)\n",
    "    print(text)\n",
    "print_codanics()"
   ]
  },
  {
   "cell_type": "code",
   "execution_count": 44,
   "id": "a7a3a008",
   "metadata": {
    "scrolled": true
   },
   "outputs": [
    {
     "name": "stdout",
     "output_type": "stream",
     "text": [
      "we are learning with amar at youtube\n",
      "we are learning with amar at youtube\n",
      "we are learning with amar at youtube\n"
     ]
    }
   ],
   "source": [
    "def print_codanics(text):\n",
    "    print(text)\n",
    "    print(text)\n",
    "    print(text)\n",
    "\n",
    "print_codanics(\"we are learning with amar at youtube\")"
   ]
  },
  {
   "cell_type": "code",
   "execution_count": 62,
   "id": "9176ddff",
   "metadata": {},
   "outputs": [
    {
     "name": "stdout",
     "output_type": "stream",
     "text": [
      "25\n"
     ]
    }
   ],
   "source": [
    "def future_age(age):\n",
    "  new_age=age+20\n",
    "  return new_age\n",
    "  print(new_age)\n",
    "future_predicted_age= future_age(5)\n",
    "print(future_predicted_age)\n"
   ]
  },
  {
   "cell_type": "markdown",
   "id": "1a7f8239",
   "metadata": {},
   "source": [
    "11= loops"
   ]
  },
  {
   "cell_type": "code",
   "execution_count": 74,
   "id": "ce0a565b",
   "metadata": {
    "scrolled": true
   },
   "outputs": [
    {
     "name": "stdout",
     "output_type": "stream",
     "text": [
      "mon\n",
      "tues\n",
      "wed\n",
      "thurs\n",
      "sat\n",
      "sun\n"
     ]
    }
   ],
   "source": [
    "days = [\"mon\", \"tues\", \"wed\", \"thurs\", \"fri\", \"sat\", \"sun\"]\n",
    "for d in days:\n",
    "    #if (d==\"fri\"):break #loop stops\n",
    "    if (d==\"fri\"):continue #skips d\n",
    "    print(d)"
   ]
  },
  {
   "cell_type": "code",
   "execution_count": 75,
   "id": "0b9c7ec7",
   "metadata": {},
   "outputs": [
    {
     "name": "stdout",
     "output_type": "stream",
     "text": [
      "mon\n",
      "tues\n",
      "wed\n",
      "thurs\n"
     ]
    }
   ],
   "source": [
    "days = [\"mon\", \"tues\", \"wed\", \"thurs\", \"fri\", \"sat\", \"sun\"]\n",
    "for d in days:\n",
    "    if (d==\"fri\"):break #loop stops\n",
    "    #if (d==\"fri\"):continue #skips d\n",
    "    print(d)"
   ]
  },
  {
   "cell_type": "code",
   "execution_count": 78,
   "id": "a288f025",
   "metadata": {
    "scrolled": true
   },
   "outputs": [
    {
     "name": "stdout",
     "output_type": "stream",
     "text": [
      "5\n",
      "6\n",
      "7\n",
      "8\n",
      "9\n",
      "10\n"
     ]
    }
   ],
   "source": [
    "for x in range (5, 11):\n",
    "    print(x)"
   ]
  },
  {
   "cell_type": "markdown",
   "id": "e0c726b5",
   "metadata": {},
   "source": [
    "11=import libraries"
   ]
  },
  {
   "cell_type": "code",
   "execution_count": 79,
   "id": "a5d7996e",
   "metadata": {
    "scrolled": true
   },
   "outputs": [
    {
     "name": "stdout",
     "output_type": "stream",
     "text": [
      "the value of pi is 3.141592653589793\n"
     ]
    }
   ],
   "source": [
    "import math\n",
    "print(\"the value of pi is\", math.pi)"
   ]
  },
  {
   "cell_type": "code",
   "execution_count": 86,
   "id": "2a9766db",
   "metadata": {
    "scrolled": true
   },
   "outputs": [
    {
     "name": "stdout",
     "output_type": "stream",
     "text": [
      "28\n"
     ]
    }
   ],
   "source": [
    "import statistics\n",
    "x={10, 15, 15, 25, 35, 55}\n",
    "print(statistics.mean(x))\n"
   ]
  },
  {
   "cell_type": "code",
   "execution_count": null,
   "id": "303dde53",
   "metadata": {},
   "outputs": [],
   "source": [
    "12"
   ]
  }
 ],
 "metadata": {
  "kernelspec": {
   "display_name": "Python 3 (ipykernel)",
   "language": "python",
   "name": "python3"
  },
  "language_info": {
   "codemirror_mode": {
    "name": "ipython",
    "version": 3
   },
   "file_extension": ".py",
   "mimetype": "text/x-python",
   "name": "python",
   "nbconvert_exporter": "python",
   "pygments_lexer": "ipython3",
   "version": "3.9.12"
  }
 },
 "nbformat": 4,
 "nbformat_minor": 5
}

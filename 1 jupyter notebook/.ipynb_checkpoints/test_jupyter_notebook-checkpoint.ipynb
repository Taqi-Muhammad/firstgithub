{
 "cells": [
  {
   "cell_type": "markdown",
   "id": "1c2407ad",
   "metadata": {},
   "source": [
    "# python ka chilla\n",
    "## how to use jupyter notebook\n",
    "### basics of python\n",
    "1- My first program\n",
    "\n",
    "2- My second program"
   ]
  },
  {
   "cell_type": "markdown",
   "id": "289e8ba7",
   "metadata": {},
   "source": [
    "1- 1st code"
   ]
  },
  {
   "cell_type": "code",
   "execution_count": 2,
   "id": "52f9e8d5",
   "metadata": {
    "scrolled": true
   },
   "outputs": [
    {
     "name": "stdout",
     "output_type": "stream",
     "text": [
      "we are learning with amaar\n",
      "we are learning with's ammar\n",
      "we are learning with\"s ammar\n",
      "8\n"
     ]
    }
   ],
   "source": [
    "print(\"we are learning with amaar\")\n",
    "print(\"we are learning with's ammar\")\n",
    "print('''we are learning with\"s ammar''')\n",
    "print(3+5)"
   ]
  },
  {
   "cell_type": "markdown",
   "id": "7a655d60",
   "metadata": {},
   "source": [
    "2- Operators"
   ]
  },
  {
   "cell_type": "code",
   "execution_count": 3,
   "id": "acced27b",
   "metadata": {
    "scrolled": false
   },
   "outputs": [
    {
     "name": "stdout",
     "output_type": "stream",
     "text": [
      "13\n",
      "4\n",
      "4.0\n",
      "36\n",
      "4\n",
      "1\n",
      "16\n",
      "256\n",
      "11.0\n",
      "PEMDAS\n",
      "left to right sequence for m and d and a and s\n"
     ]
    }
   ],
   "source": [
    "print(9+4)\n",
    "print(7-3)\n",
    "print(8/2)\n",
    "print(9*4)\n",
    "print(8//2)\n",
    "print(15%2)\n",
    "print(2**4)\n",
    "print(4**4)\n",
    "print(4-2+6*3/2)\n",
    "print(\"PEMDAS\")\n",
    "print(\"left to right sequence for m and d and a and s\")"
   ]
  },
  {
   "cell_type": "markdown",
   "id": "b48f5a8d",
   "metadata": {},
   "source": [
    "3- Strings"
   ]
  },
  {
   "cell_type": "code",
   "execution_count": 4,
   "id": "3f556940",
   "metadata": {
    "scrolled": true
   },
   "outputs": [
    {
     "name": "stdout",
     "output_type": "stream",
     "text": [
      "this is our test for single string\n",
      "now we have put ' in between \n",
      "this is how things works\n"
     ]
    }
   ],
   "source": [
    "print('this is our test for single string')\n",
    "print(\"now we have put ' in between \")\n",
    "print('''this is how things works''')"
   ]
  },
  {
   "cell_type": "markdown",
   "id": "789fa547",
   "metadata": {},
   "source": [
    "4- comments"
   ]
  },
  {
   "cell_type": "code",
   "execution_count": 5,
   "id": "76db96e9",
   "metadata": {
    "scrolled": true
   },
   "outputs": [
    {
     "name": "stdout",
     "output_type": "stream",
     "text": [
      "how to add comments mean how to stop a code from appearing in terminal results\n",
      "for this we use hash tag\n",
      "or we can do this in this way\n",
      "that'S How things work in python\n"
     ]
    }
   ],
   "source": [
    "print(\"how to add comments mean how to stop a code from appearing in terminal results\")\n",
    "print(\"for this we use hash tag\") #print(\"lets apply this example\")\n",
    "print(\"or we can do this in this way\")\n",
    "print(\"that'S How things work in python\")"
   ]
  },
  {
   "cell_type": "markdown",
   "id": "e33e0eb0",
   "metadata": {},
   "source": [
    "5- variables"
   ]
  },
  {
   "cell_type": "code",
   "execution_count": 6,
   "id": "7aa0140b",
   "metadata": {
    "scrolled": true
   },
   "outputs": [
    {
     "name": "stdout",
     "output_type": "stream",
     "text": [
      "5\n",
      "we are learning python withcamaar\n",
      "15\n",
      "25\n",
      "<class 'int'>\n",
      "<class 'str'>\n",
      "mangoes\n",
      "mangoes,oranges\n",
      "<class 'str'>\n"
     ]
    }
   ],
   "source": [
    "#variables are objects containing specific values\n",
    "from re import X\n",
    "\n",
    "\n",
    "x = 5 #numeric or integar variable\n",
    "print(x)\n",
    "y=\"we are learning python withcamaar\" #string variable\n",
    "print(y)\n",
    "x=15\n",
    "print(x)\n",
    "x=(x+10)\n",
    "print(x)\n",
    "#types of variables mean we are going to check types of variable using python\n",
    "print(type(x))\n",
    "print(type(y))\n",
    "#rules for variables\n",
    "#1 the variable should contain letters numbers or underscore\n",
    "#2 do not start with numbers\n",
    "#3 spaces are not allowed\n",
    "#4 variable name should be short and descriptive\n",
    "#5 do not use key words used in functions in python\n",
    "#6 case senstivity use lowercasse\n",
    "fruit_basket=\"mangoes\"\n",
    "print(fruit_basket)\n",
    "fruit_basket=\"mangoes,oranges\"\n",
    "print(fruit_basket)\n",
    "print(type(fruit_basket))"
   ]
  },
  {
   "cell_type": "markdown",
   "id": "11bdb7dd",
   "metadata": {},
   "source": [
    "6- input variables"
   ]
  },
  {
   "cell_type": "code",
   "execution_count": 12,
   "id": "2baef568",
   "metadata": {
    "scrolled": false
   },
   "outputs": [
    {
     "name": "stdout",
     "output_type": "stream",
     "text": [
      "mangoes\n"
     ]
    }
   ],
   "source": [
    "fruit_basket=\"mangoes\"\n",
    "print(fruit_basket)"
   ]
  },
  {
   "cell_type": "code",
   "execution_count": 13,
   "id": "35e84929",
   "metadata": {
    "scrolled": true
   },
   "outputs": [
    {
     "name": "stdout",
     "output_type": "stream",
     "text": [
      "what is your favouritee friut? mangoes\n"
     ]
    }
   ],
   "source": [
    "#input function\n",
    "fruit_basket=input(\"what is your favouritee friut? \")"
   ]
  },
  {
   "cell_type": "code",
   "execution_count": 14,
   "id": "e555c26b",
   "metadata": {
    "scrolled": true
   },
   "outputs": [
    {
     "name": "stdout",
     "output_type": "stream",
     "text": [
      "what is your name? taqi\n",
      "Hello! taqi\n"
     ]
    }
   ],
   "source": [
    "name=input(\"what is your name? \")\n",
    "greetings=\"Hello!\"\n",
    "print(greetings, name)"
   ]
  },
  {
   "cell_type": "code",
   "execution_count": 15,
   "id": "c54c5f70",
   "metadata": {
    "scrolled": true
   },
   "outputs": [
    {
     "name": "stdout",
     "output_type": "stream",
     "text": [
      "what is your name? taqi\n",
      "Hello! taqi\n"
     ]
    }
   ],
   "source": [
    "name=input(\"what is your name? \")\n",
    "print(\"Hello!\",name)"
   ]
  },
  {
   "cell_type": "code",
   "execution_count": 16,
   "id": "5abdc200",
   "metadata": {
    "scrolled": true
   },
   "outputs": [
    {
     "name": "stdout",
     "output_type": "stream",
     "text": [
      "what is your name? taqi\n",
      "how old are you? 20\n",
      "Hello! taqi you are still young\n"
     ]
    }
   ],
   "source": [
    "name=input(\"what is your name? \")\n",
    "age=input(\"how old are you? \")\n",
    "greetings=\"Hello!\"\n",
    "print(greetings, name, \"you are still young\")"
   ]
  },
  {
   "cell_type": "code",
   "execution_count": 17,
   "id": "5d738540",
   "metadata": {
    "scrolled": true
   },
   "outputs": [
    {
     "name": "stdout",
     "output_type": "stream",
     "text": [
      "what is your name? taqi\n",
      "how old are you? 20\n",
      "Hello! taqi 20 you are still young\n"
     ]
    }
   ],
   "source": [
    "name=input(\"what is your name? \")\n",
    "age=input(\"how old are you? \")\n",
    "greetings=\"Hello!\"\n",
    "print(greetings, name, age, \"you are still young\")"
   ]
  },
  {
   "cell_type": "markdown",
   "id": "6d880518",
   "metadata": {},
   "source": [
    "7- conditional logics"
   ]
  },
  {
   "cell_type": "code",
   "execution_count": 18,
   "id": "f0f13de6",
   "metadata": {
    "scrolled": true
   },
   "outputs": [
    {
     "name": "stdout",
     "output_type": "stream",
     "text": [
      "True\n",
      "True\n",
      "False\n",
      "False\n",
      "False\n",
      "False\n",
      "True\n",
      "True\n"
     ]
    }
   ],
   "source": [
    "#logical operators are eiher true or false yes or no 1 or 0\n",
    "#equal to ==\n",
    "#not equal to !=\n",
    "#less than <\n",
    "#greater than >\n",
    "#less than and equal to <=\n",
    "#greater than and equal to >=\n",
    "#is 4 equal to 4\n",
    "print(4==4)\n",
    "print(4>2)\n",
    "print(4<2)\n",
    "print(4!=4)\n",
    "print(3>6)\n",
    "print(3>=6)\n",
    "print(3<=5)\n",
    "print(4>=2)"
   ]
  },
  {
   "cell_type": "code",
   "execution_count": 19,
   "id": "d367c63c",
   "metadata": {
    "scrolled": true
   },
   "outputs": [
    {
     "name": "stdout",
     "output_type": "stream",
     "text": [
      "how old are you? 5\n",
      "True\n"
     ]
    }
   ],
   "source": [
    "age_at_school=5\n",
    "hamadad_age=input(\"how old are you? \")\n",
    "hamadad_age=int(hamadad_age)\n",
    "print(hamadad_age==age_at_school)"
   ]
  },
  {
   "cell_type": "code",
   "execution_count": 20,
   "id": "761ba015",
   "metadata": {},
   "outputs": [
    {
     "name": "stdout",
     "output_type": "stream",
     "text": [
      "how old are you? 4\n",
      "False\n"
     ]
    }
   ],
   "source": [
    "age_at_school=5\n",
    "hamadad_age=input(\"how old are you? \")\n",
    "hamadad_age=int(hamadad_age)\n",
    "print(hamadad_age==age_at_school)"
   ]
  },
  {
   "cell_type": "code",
   "execution_count": 31,
   "id": "590927fc",
   "metadata": {
    "scrolled": true
   },
   "outputs": [
    {
     "name": "stdout",
     "output_type": "stream",
     "text": [
      "10 type of x is <class 'int'>\n"
     ]
    }
   ],
   "source": [
    "x=10\n",
    "#y=10.2\n",
    "#z= \"Hello\n",
    "print(x, \"type of x is\", type(x))"
   ]
  },
  {
   "cell_type": "code",
   "execution_count": 32,
   "id": "d0442db5",
   "metadata": {
    "scrolled": true
   },
   "outputs": [
    {
     "name": "stdout",
     "output_type": "stream",
     "text": [
      "10 type of y is <class 'float'>\n"
     ]
    }
   ],
   "source": [
    "y=10.2\n",
    "print(x, \"type of y is\", type(y))"
   ]
  },
  {
   "cell_type": "code",
   "execution_count": 33,
   "id": "0301b49b",
   "metadata": {},
   "outputs": [
    {
     "name": "stdout",
     "output_type": "stream",
     "text": [
      "we are doing work on jupyter notebook type of z is <class 'str'>\n"
     ]
    }
   ],
   "source": [
    "z= \"we are doing work on jupyter notebook\"\n",
    "print(z, \"type of z is\", type(z))"
   ]
  },
  {
   "cell_type": "code",
   "execution_count": 34,
   "id": "2a9e0117",
   "metadata": {
    "scrolled": true
   },
   "outputs": [
    {
     "name": "stdout",
     "output_type": "stream",
     "text": [
      "what is your age? 20\n",
      "20 <class 'float'>\n"
     ]
    }
   ],
   "source": [
    "age=input(\"what is your age? \")\n",
    "print(age, type(float(age)))"
   ]
  },
  {
   "cell_type": "code",
   "execution_count": 35,
   "id": "147435b5",
   "metadata": {},
   "outputs": [
    {
     "name": "stdout",
     "output_type": "stream",
     "text": [
      "what is your name? taqi\n",
      "taqi <class 'str'>\n"
     ]
    }
   ],
   "source": [
    "name=input(\"what is your name? \")\n",
    "print(name, type(str(name)))"
   ]
  }
 ],
 "metadata": {
  "kernelspec": {
   "display_name": "Python 3 (ipykernel)",
   "language": "python",
   "name": "python3"
  },
  "language_info": {
   "codemirror_mode": {
    "name": "ipython",
    "version": 3
   },
   "file_extension": ".py",
   "mimetype": "text/x-python",
   "name": "python",
   "nbconvert_exporter": "python",
   "pygments_lexer": "ipython3",
   "version": "3.9.12"
  }
 },
 "nbformat": 4,
 "nbformat_minor": 5
}

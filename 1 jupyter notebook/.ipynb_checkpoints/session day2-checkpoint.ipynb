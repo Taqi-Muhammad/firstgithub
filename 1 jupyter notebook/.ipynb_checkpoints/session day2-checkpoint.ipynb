{
 "cells": [
  {
   "cell_type": "code",
   "execution_count": 1,
   "id": "3521a64c",
   "metadata": {},
   "outputs": [],
   "source": [
    "# body mass index\n",
    "# input weight, height, \n",
    "#bmi (height, weight, and then calculate bmi and then print)"
   ]
  },
  {
   "cell_type": "code",
   "execution_count": 1,
   "id": "dbdebe2d",
   "metadata": {
    "scrolled": true
   },
   "outputs": [
    {
     "name": "stdout",
     "output_type": "stream",
     "text": [
      "what is your height? 1.74\n"
     ]
    }
   ],
   "source": [
    "height=input(\"what is your height? \")"
   ]
  },
  {
   "cell_type": "code",
   "execution_count": 3,
   "id": "43dd8dae",
   "metadata": {},
   "outputs": [],
   "source": [
    "height=float(height)"
   ]
  },
  {
   "cell_type": "code",
   "execution_count": 4,
   "id": "f9043667",
   "metadata": {
    "scrolled": true
   },
   "outputs": [
    {
     "name": "stdout",
     "output_type": "stream",
     "text": [
      "what is your weight? 60\n"
     ]
    }
   ],
   "source": [
    "weight=input(\"what is your weight? \")"
   ]
  },
  {
   "cell_type": "code",
   "execution_count": 5,
   "id": "96bd1306",
   "metadata": {},
   "outputs": [],
   "source": [
    "weight=float(weight)"
   ]
  },
  {
   "cell_type": "code",
   "execution_count": 6,
   "id": "8d6198a2",
   "metadata": {},
   "outputs": [
    {
     "name": "stdout",
     "output_type": "stream",
     "text": [
      "what is your name? taqi\n"
     ]
    }
   ],
   "source": [
    "name=input(\"what is your name? \")"
   ]
  },
  {
   "cell_type": "code",
   "execution_count": 7,
   "id": "59d8298b",
   "metadata": {},
   "outputs": [
    {
     "data": {
      "text/plain": [
       "19.817677368212443"
      ]
     },
     "execution_count": 7,
     "metadata": {},
     "output_type": "execute_result"
    }
   ],
   "source": [
    "BMI= weight/height**2\n",
    "BMI"
   ]
  },
  {
   "cell_type": "code",
   "execution_count": 9,
   "id": "32a94256",
   "metadata": {},
   "outputs": [
    {
     "name": "stdout",
     "output_type": "stream",
     "text": [
      "my name is taqi and my bmi is 19.817677368212443\n"
     ]
    }
   ],
   "source": [
    "print(\"my name is\", name, \"and my bmi is\", BMI)"
   ]
  },
  {
   "cell_type": "code",
   "execution_count": null,
   "id": "52687ff1",
   "metadata": {},
   "outputs": [],
   "source": [
    "#data visualization\n",
    "#data to code to graphs\n",
    "#minds to page and plots\n",
    "#dr andrew abela chart suggestion"
   ]
  }
 ],
 "metadata": {
  "kernelspec": {
   "display_name": "Python 3 (ipykernel)",
   "language": "python",
   "name": "python3"
  },
  "language_info": {
   "codemirror_mode": {
    "name": "ipython",
    "version": 3
   },
   "file_extension": ".py",
   "mimetype": "text/x-python",
   "name": "python",
   "nbconvert_exporter": "python",
   "pygments_lexer": "ipython3",
   "version": "3.9.12"
  }
 },
 "nbformat": 4,
 "nbformat_minor": 5
}
